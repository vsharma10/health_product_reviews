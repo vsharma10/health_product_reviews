{
 "cells": [
  {
   "cell_type": "code",
   "execution_count": 2,
   "metadata": {
    "collapsed": true
   },
   "outputs": [],
   "source": [
    "reset -fs"
   ]
  },
  {
   "cell_type": "code",
   "execution_count": 3,
   "metadata": {
    "collapsed": true
   },
   "outputs": [],
   "source": [
    "import gzip\n",
    "import itertools\n",
    "import string\n",
    "import wordcloud\n",
    "import numpy as np\n",
    "import pandas as pd\n",
    "import datetime as dt\n",
    "import matplotlib.pyplot as plt\n",
    "import pylab as pl\n",
    "\n",
    "from collections import Counter\n",
    "from sklearn import svm\n",
    "from sklearn.pipeline import Pipeline, make_pipeline\n",
    "from sklearn.linear_model import LogisticRegression\n",
    "from sklearn.feature_extraction.text import CountVectorizer, TfidfVectorizer\n",
    "from sklearn.decomposition import NMF, LatentDirichletAllocation\n",
    "from sklearn.naive_bayes import MultinomialNB\n",
    "from sklearn.model_selection import train_test_split, cross_val_score\n",
    "from sklearn.model_selection import GridSearchCV\n",
    "from sklearn.metrics import accuracy_score, confusion_matrix, f1_score\n",
    "\n",
    "from nltk import word_tokenize\n",
    "from nltk.corpus import stopwords\n",
    "from nltk.stem.wordnet import WordNetLemmatizer\n",
    "\n",
    "%matplotlib inline"
   ]
  },
  {
   "cell_type": "code",
   "execution_count": 4,
   "metadata": {
    "collapsed": true
   },
   "outputs": [],
   "source": [
    "# Code provided via http://jmcauley.ucsd.edu/data/amazon/\n",
    "\n",
    "def parse_gz(path):\n",
    "    g = gzip.open(path, 'rb')\n",
    "    for l in g:\n",
    "        yield eval(l)\n",
    "\n",
    "def convert_to_DF(path):\n",
    "    i = 0\n",
    "    df = {}\n",
    "    for d in parse_gz(path):\n",
    "        df[i] = d\n",
    "        i += 1\n",
    "    return pd.DataFrame.from_dict(df, orient='index')"
   ]
  },
  {
   "cell_type": "code",
   "execution_count": 5,
   "metadata": {
    "collapsed": true
   },
   "outputs": [],
   "source": [
    "# Load datas\n",
    "health_products = convert_to_DF('reviews_Health_and_Personal_Care.json.gz')"
   ]
  },
  {
   "cell_type": "code",
   "execution_count": 6,
   "metadata": {},
   "outputs": [
    {
     "name": "stdout",
     "output_type": "stream",
     "text": [
      "Dataset size: 2,982,326 words\n"
     ]
    }
   ],
   "source": [
    "print('Dataset size: {:,} words'.format(len(health_products)))"
   ]
  },
  {
   "cell_type": "code",
   "execution_count": 7,
   "metadata": {},
   "outputs": [
    {
     "data": {
      "text/html": [
       "<div>\n",
       "<style>\n",
       "    .dataframe thead tr:only-child th {\n",
       "        text-align: right;\n",
       "    }\n",
       "\n",
       "    .dataframe thead th {\n",
       "        text-align: left;\n",
       "    }\n",
       "\n",
       "    .dataframe tbody tr th {\n",
       "        vertical-align: top;\n",
       "    }\n",
       "</style>\n",
       "<table border=\"1\" class=\"dataframe\">\n",
       "  <thead>\n",
       "    <tr style=\"text-align: right;\">\n",
       "      <th></th>\n",
       "      <th>reviewerID</th>\n",
       "      <th>asin</th>\n",
       "      <th>reviewerName</th>\n",
       "      <th>helpful</th>\n",
       "      <th>reviewText</th>\n",
       "      <th>overall</th>\n",
       "      <th>summary</th>\n",
       "      <th>unixReviewTime</th>\n",
       "      <th>reviewTime</th>\n",
       "    </tr>\n",
       "  </thead>\n",
       "  <tbody>\n",
       "    <tr>\n",
       "      <th>0</th>\n",
       "      <td>ARMDSTEI0Z7YW</td>\n",
       "      <td>0077614992</td>\n",
       "      <td>dodo</td>\n",
       "      <td>[0, 0]</td>\n",
       "      <td>This book was a requirement for a college clas...</td>\n",
       "      <td>5.0</td>\n",
       "      <td>great</td>\n",
       "      <td>1360886400</td>\n",
       "      <td>02 15, 2013</td>\n",
       "    </tr>\n",
       "    <tr>\n",
       "      <th>1</th>\n",
       "      <td>A3FYN0SZYWN74</td>\n",
       "      <td>0615208479</td>\n",
       "      <td>Marilyn Mitzel</td>\n",
       "      <td>[0, 0]</td>\n",
       "      <td>This is a great gift for anyone who wants to h...</td>\n",
       "      <td>5.0</td>\n",
       "      <td>AMAZING HOW QUICKLY IT WORKS!</td>\n",
       "      <td>1228089600</td>\n",
       "      <td>12 1, 2008</td>\n",
       "    </tr>\n",
       "    <tr>\n",
       "      <th>2</th>\n",
       "      <td>A2J0WRZSAAHUAP</td>\n",
       "      <td>0615269990</td>\n",
       "      <td>icu-rn</td>\n",
       "      <td>[0, 0]</td>\n",
       "      <td>Very helpful in learning about different disea...</td>\n",
       "      <td>5.0</td>\n",
       "      <td>Must have</td>\n",
       "      <td>1396742400</td>\n",
       "      <td>04 6, 2014</td>\n",
       "    </tr>\n",
       "  </tbody>\n",
       "</table>\n",
       "</div>"
      ],
      "text/plain": [
       "       reviewerID        asin    reviewerName helpful  \\\n",
       "0   ARMDSTEI0Z7YW  0077614992            dodo  [0, 0]   \n",
       "1   A3FYN0SZYWN74  0615208479  Marilyn Mitzel  [0, 0]   \n",
       "2  A2J0WRZSAAHUAP  0615269990          icu-rn  [0, 0]   \n",
       "\n",
       "                                          reviewText  overall  \\\n",
       "0  This book was a requirement for a college clas...      5.0   \n",
       "1  This is a great gift for anyone who wants to h...      5.0   \n",
       "2  Very helpful in learning about different disea...      5.0   \n",
       "\n",
       "                         summary  unixReviewTime   reviewTime  \n",
       "0                          great      1360886400  02 15, 2013  \n",
       "1  AMAZING HOW QUICKLY IT WORKS!      1228089600   12 1, 2008  \n",
       "2                      Must have      1396742400   04 6, 2014  "
      ]
     },
     "execution_count": 7,
     "metadata": {},
     "output_type": "execute_result"
    }
   ],
   "source": [
    "health_products[:3]"
   ]
  },
  {
   "cell_type": "code",
   "execution_count": 8,
   "metadata": {
    "collapsed": true
   },
   "outputs": [],
   "source": [
    "health_products[\"reviewTime\"] = pd.to_datetime(health_products[\"reviewTime\"])"
   ]
  },
  {
   "cell_type": "code",
   "execution_count": 9,
   "metadata": {
    "collapsed": true
   },
   "outputs": [],
   "source": [
    "health_products = health_products[['asin', 'summary', 'reviewText', 'overall', 'reviewerID', 'reviewerName', 'helpful', 'reviewTime',\n",
    "      'unixReviewTime']]"
   ]
  },
  {
   "cell_type": "code",
   "execution_count": 11,
   "metadata": {},
   "outputs": [
    {
     "data": {
      "text/html": [
       "<div>\n",
       "<style>\n",
       "    .dataframe thead tr:only-child th {\n",
       "        text-align: right;\n",
       "    }\n",
       "\n",
       "    .dataframe thead th {\n",
       "        text-align: left;\n",
       "    }\n",
       "\n",
       "    .dataframe tbody tr th {\n",
       "        vertical-align: top;\n",
       "    }\n",
       "</style>\n",
       "<table border=\"1\" class=\"dataframe\">\n",
       "  <thead>\n",
       "    <tr style=\"text-align: right;\">\n",
       "      <th></th>\n",
       "      <th>asin</th>\n",
       "      <th>summary</th>\n",
       "      <th>reviewText</th>\n",
       "      <th>overall</th>\n",
       "      <th>reviewerID</th>\n",
       "      <th>reviewerName</th>\n",
       "      <th>helpful</th>\n",
       "      <th>reviewTime</th>\n",
       "      <th>unixReviewTime</th>\n",
       "    </tr>\n",
       "  </thead>\n",
       "  <tbody>\n",
       "    <tr>\n",
       "      <th>0</th>\n",
       "      <td>0077614992</td>\n",
       "      <td>great</td>\n",
       "      <td>This book was a requirement for a college clas...</td>\n",
       "      <td>5.0</td>\n",
       "      <td>ARMDSTEI0Z7YW</td>\n",
       "      <td>dodo</td>\n",
       "      <td>[0, 0]</td>\n",
       "      <td>2013-02-15</td>\n",
       "      <td>1360886400</td>\n",
       "    </tr>\n",
       "    <tr>\n",
       "      <th>1</th>\n",
       "      <td>0615208479</td>\n",
       "      <td>AMAZING HOW QUICKLY IT WORKS!</td>\n",
       "      <td>This is a great gift for anyone who wants to h...</td>\n",
       "      <td>5.0</td>\n",
       "      <td>A3FYN0SZYWN74</td>\n",
       "      <td>Marilyn Mitzel</td>\n",
       "      <td>[0, 0]</td>\n",
       "      <td>2008-12-01</td>\n",
       "      <td>1228089600</td>\n",
       "    </tr>\n",
       "    <tr>\n",
       "      <th>2</th>\n",
       "      <td>0615269990</td>\n",
       "      <td>Must have</td>\n",
       "      <td>Very helpful in learning about different disea...</td>\n",
       "      <td>5.0</td>\n",
       "      <td>A2J0WRZSAAHUAP</td>\n",
       "      <td>icu-rn</td>\n",
       "      <td>[0, 0]</td>\n",
       "      <td>2014-04-06</td>\n",
       "      <td>1396742400</td>\n",
       "    </tr>\n",
       "  </tbody>\n",
       "</table>\n",
       "</div>"
      ],
      "text/plain": [
       "         asin                        summary  \\\n",
       "0  0077614992                          great   \n",
       "1  0615208479  AMAZING HOW QUICKLY IT WORKS!   \n",
       "2  0615269990                      Must have   \n",
       "\n",
       "                                          reviewText  overall      reviewerID  \\\n",
       "0  This book was a requirement for a college clas...      5.0   ARMDSTEI0Z7YW   \n",
       "1  This is a great gift for anyone who wants to h...      5.0   A3FYN0SZYWN74   \n",
       "2  Very helpful in learning about different disea...      5.0  A2J0WRZSAAHUAP   \n",
       "\n",
       "     reviewerName helpful reviewTime  unixReviewTime  \n",
       "0            dodo  [0, 0] 2013-02-15      1360886400  \n",
       "1  Marilyn Mitzel  [0, 0] 2008-12-01      1228089600  \n",
       "2          icu-rn  [0, 0] 2014-04-06      1396742400  "
      ]
     },
     "execution_count": 11,
     "metadata": {},
     "output_type": "execute_result"
    }
   ],
   "source": [
    "health_products.head(3)"
   ]
  },
  {
   "cell_type": "code",
   "execution_count": 12,
   "metadata": {},
   "outputs": [
    {
     "data": {
      "text/html": [
       "<div>\n",
       "<style>\n",
       "    .dataframe thead tr:only-child th {\n",
       "        text-align: right;\n",
       "    }\n",
       "\n",
       "    .dataframe thead th {\n",
       "        text-align: left;\n",
       "    }\n",
       "\n",
       "    .dataframe tbody tr th {\n",
       "        vertical-align: top;\n",
       "    }\n",
       "</style>\n",
       "<table border=\"1\" class=\"dataframe\">\n",
       "  <thead>\n",
       "    <tr style=\"text-align: right;\">\n",
       "      <th></th>\n",
       "      <th>asin</th>\n",
       "      <th>summary</th>\n",
       "      <th>reviewText</th>\n",
       "      <th>overall</th>\n",
       "      <th>reviewerID</th>\n",
       "      <th>reviewerName</th>\n",
       "      <th>helpful</th>\n",
       "      <th>reviewTime</th>\n",
       "      <th>unixReviewTime</th>\n",
       "    </tr>\n",
       "  </thead>\n",
       "  <tbody>\n",
       "    <tr>\n",
       "      <th>2982323</th>\n",
       "      <td>B00LWTTO0A</td>\n",
       "      <td>Great way to take care on my skin at home.</td>\n",
       "      <td>Great way to take care on my skin at home.I us...</td>\n",
       "      <td>5.0</td>\n",
       "      <td>A1252ETWUJRKVC</td>\n",
       "      <td>Kim.L.</td>\n",
       "      <td>[0, 0]</td>\n",
       "      <td>2014-07-18</td>\n",
       "      <td>1405641600</td>\n",
       "    </tr>\n",
       "    <tr>\n",
       "      <th>2982324</th>\n",
       "      <td>B00LWTTO0A</td>\n",
       "      <td>Good quality clay</td>\n",
       "      <td>Good quality clay, saves me salon visits to tr...</td>\n",
       "      <td>5.0</td>\n",
       "      <td>A215W0EOUNL81C</td>\n",
       "      <td>Tina S.</td>\n",
       "      <td>[0, 0]</td>\n",
       "      <td>2014-07-18</td>\n",
       "      <td>1405641600</td>\n",
       "    </tr>\n",
       "    <tr>\n",
       "      <th>2982325</th>\n",
       "      <td>B00LYPUPZK</td>\n",
       "      <td>One Star</td>\n",
       "      <td>Fake!</td>\n",
       "      <td>1.0</td>\n",
       "      <td>A2ZFFXGLJUHD76</td>\n",
       "      <td>Dan Bernstein</td>\n",
       "      <td>[0, 0]</td>\n",
       "      <td>2014-07-21</td>\n",
       "      <td>1405900800</td>\n",
       "    </tr>\n",
       "  </tbody>\n",
       "</table>\n",
       "</div>"
      ],
      "text/plain": [
       "               asin                                     summary  \\\n",
       "2982323  B00LWTTO0A  Great way to take care on my skin at home.   \n",
       "2982324  B00LWTTO0A                           Good quality clay   \n",
       "2982325  B00LYPUPZK                                    One Star   \n",
       "\n",
       "                                                reviewText  overall  \\\n",
       "2982323  Great way to take care on my skin at home.I us...      5.0   \n",
       "2982324  Good quality clay, saves me salon visits to tr...      5.0   \n",
       "2982325                                              Fake!      1.0   \n",
       "\n",
       "             reviewerID   reviewerName helpful reviewTime  unixReviewTime  \n",
       "2982323  A1252ETWUJRKVC         Kim.L.  [0, 0] 2014-07-18      1405641600  \n",
       "2982324  A215W0EOUNL81C        Tina S.  [0, 0] 2014-07-18      1405641600  \n",
       "2982325  A2ZFFXGLJUHD76  Dan Bernstein  [0, 0] 2014-07-21      1405900800  "
      ]
     },
     "execution_count": 12,
     "metadata": {},
     "output_type": "execute_result"
    }
   ],
   "source": [
    "health_products.tail(3)"
   ]
  },
  {
   "cell_type": "code",
   "execution_count": 13,
   "metadata": {},
   "outputs": [
    {
     "name": "stdout",
     "output_type": "stream",
     "text": [
      "Number of Unique Products in the Health and Personal Care Category = 252331\n"
     ]
    }
   ],
   "source": [
    "products = health_products['overall'].groupby(health_products['asin']).count()\n",
    "print(\"Number of Unique Products in the Health and Personal Care Category = {}\".format(products.count()))"
   ]
  },
  {
   "cell_type": "code",
   "execution_count": 14,
   "metadata": {},
   "outputs": [
    {
     "name": "stdout",
     "output_type": "stream",
     "text": [
      "Top 20 Reviewed Products:\n",
      "\n",
      "asin\n",
      "B001KXZ808    11365\n",
      "B0032TNPOE     9338\n",
      "B0095PZHPE     6788\n",
      "B00B5H5BGA     5739\n",
      "B0000U1OCI     5550\n",
      "B001ADL1SG     5124\n",
      "B0010JLMO8     5003\n",
      "B009VUZJTM     4301\n",
      "B000KUHFGM     3862\n",
      "B00A8SLH8I     3767\n",
      "B000GIPJY8     3567\n",
      "B001U0OFCS     3237\n",
      "B0026HDURA     3182\n",
      "B004L6NTHU     3180\n",
      "B004D9P1A8     3103\n",
      "B0049LUI9O     3071\n",
      "B00HK61L3C     3066\n",
      "B003WR3QSG     2417\n",
      "B000NL0T1G     2369\n",
      "B00CJAV0US     2357\n",
      "Name: overall, dtype: int64\n",
      "\n",
      "Most Reviewed Product, B001KXZ808 - has 11365 reviews.\n"
     ]
    }
   ],
   "source": [
    "sorted_products = products.sort_values(ascending=False)\n",
    "\n",
    "print(\"Top 20 Reviewed Products:\\n\")\n",
    "print(sorted_products[:20], end='\\n\\n')\n",
    "print('Most Reviewed Product, B001KXZ808 - has {} reviews.'.format(products.max()))"
   ]
  },
  {
   "cell_type": "code",
   "execution_count": 15,
   "metadata": {},
   "outputs": [
    {
     "data": {
      "text/plain": [
       "0     This book was a requirement for a college clas...\n",
       "1     This is a great gift for anyone who wants to h...\n",
       "2     Very helpful in learning about different disea...\n",
       "3     Occam's Razor is an unbelievably intuitive and...\n",
       "4     I met the guys from Nerdcore at a medical conf...\n",
       "5     Love this little book, Has allot of great reci...\n",
       "6     This is a great simple book for blender bottle...\n",
       "7     You have to be a breast cancer survivor, which...\n",
       "8     Aphrodite Reborn tells the dramatic and courag...\n",
       "9     What an inspiring and visually stunning book M...\n",
       "10    The new book is FABULOUS! I thought Reconstruc...\n",
       "Name: reviewText, dtype: object"
      ]
     },
     "execution_count": 15,
     "metadata": {},
     "output_type": "execute_result"
    }
   ],
   "source": [
    "health_products['reviewText'][:11]"
   ]
  },
  {
   "cell_type": "code",
   "execution_count": 16,
   "metadata": {
    "collapsed": true
   },
   "outputs": [],
   "source": [
    "reviews = health_products['reviewText']"
   ]
  },
  {
   "cell_type": "code",
   "execution_count": 17,
   "metadata": {},
   "outputs": [
    {
     "data": {
      "text/plain": [
       "2982326"
      ]
     },
     "execution_count": 17,
     "metadata": {},
     "output_type": "execute_result"
    }
   ],
   "source": [
    "reviews.count()"
   ]
  },
  {
   "cell_type": "code",
   "execution_count": 18,
   "metadata": {
    "collapsed": true
   },
   "outputs": [],
   "source": [
    "stops = stopwords.words('english')"
   ]
  },
  {
   "cell_type": "code",
   "execution_count": 19,
   "metadata": {
    "collapsed": true
   },
   "outputs": [],
   "source": [
    "def tokenize(text):\n",
    "    tokenized = word_tokenize(text)\n",
    "    no_punc = []\n",
    "    for review in tokenized:\n",
    "        line = \"\".join(char for char in review if char not in string.punctuation)\n",
    "        no_punc.append(line)\n",
    "    tokens = lemmatize(no_punc)\n",
    "    return tokens\n",
    "\n",
    "\n",
    "def lemmatize(tokens):\n",
    "    lmtzr = WordNetLemmatizer()\n",
    "    lemma = [lmtzr.lemmatize(t) for t in tokens]\n",
    "    return lemma"
   ]
  },
  {
   "cell_type": "code",
   "execution_count": 20,
   "metadata": {
    "collapsed": true
   },
   "outputs": [],
   "source": [
    "reviews = reviews.apply(lambda x: tokenize(x))"
   ]
  },
  {
   "cell_type": "code",
   "execution_count": 21,
   "metadata": {},
   "outputs": [
    {
     "data": {
      "text/plain": [
       "0     [This, book, wa, a, requirement, for, a, colle...\n",
       "1     [This, is, a, great, gift, for, anyone, who, w...\n",
       "2     [Very, helpful, in, learning, about, different...\n",
       "3     [Occam, s, Razor, is, an, unbelievably, intuit...\n",
       "4     [I, met, the, guy, from, Nerdcore, at, a, medi...\n",
       "5     [Love, this, little, book, , Has, allot, of, g...\n",
       "6     [This, is, a, great, simple, book, for, blende...\n",
       "7     [You, have, to, be, a, breast, cancer, survivo...\n",
       "8     [Aphrodite, Reborn, tell, the, dramatic, and, ...\n",
       "9     [What, an, inspiring, and, visually, stunning,...\n",
       "10    [The, new, book, is, FABULOUS, , I, thought, R...\n",
       "Name: reviewText, dtype: object"
      ]
     },
     "execution_count": 21,
     "metadata": {},
     "output_type": "execute_result"
    }
   ],
   "source": [
    "reviews[:11]"
   ]
  },
  {
   "cell_type": "code",
   "execution_count": 22,
   "metadata": {
    "collapsed": true
   },
   "outputs": [],
   "source": [
    "cloud = wordcloud.WordCloud(background_color='gray', max_font_size=60, \n",
    "                                relative_scaling=1).generate(' '.join(health_products.reviewText))"
   ]
  },
  {
   "cell_type": "code",
   "execution_count": 23,
   "metadata": {},
   "outputs": [
    {
     "data": {
      "text/plain": [
       "<matplotlib.image.AxesImage at 0x1d63f3d0b8>"
      ]
     },
     "execution_count": 23,
     "metadata": {},
     "output_type": "execute_result"
    },
    {
     "data": {
      "image/png": "[encoded data removed]",
      "text/plain": [
       "<matplotlib.figure.Figure at 0x1d63f292b0>"
      ]
     },
     "metadata": {},
     "output_type": "display_data"
    }
   ],
   "source": [
    "fig = plt.figure(figsize=(20, 10))\n",
    "plt.axis('off')\n",
    "plt.imshow(cloud)"
   ]
  },
  {
   "cell_type": "code",
   "execution_count": 24,
   "metadata": {},
   "outputs": [
    {
     "data": {
      "text/plain": [
       "<matplotlib.axes._subplots.AxesSubplot at 0x1da9c1bc50>"
      ]
     },
     "execution_count": 24,
     "metadata": {},
     "output_type": "execute_result"
    },
    {
     "data": {
      "image/png": "[encoded data removed]",
      "text/plain": [
       "<matplotlib.figure.Figure at 0x1da9bf2470>"
      ]
     },
     "metadata": {},
     "output_type": "display_data"
    }
   ],
   "source": [
    "health_products.groupby(health_products.overall).size().plot(kind='bar')"
   ]
  },
  {
   "cell_type": "code",
   "execution_count": 26,
   "metadata": {},
   "outputs": [],
   "source": [
    "review_text = health_products[\"reviewText\"]\n",
    "\n",
    "# Use tf-idf features\n",
    "tfidf_vectorizer = TfidfVectorizer(stop_words=stops)\n",
    "tfidf = tfidf_vectorizer.fit_transform(review_text)\n",
    "\n",
    "# Use tf features\n",
    "tf_vectorizer = CountVectorizer(stop_words=stops)\n",
    "tf = tf_vectorizer.fit_transform(review_text)"
   ]
  },
  {
   "cell_type": "code",
   "execution_count": 27,
   "metadata": {},
   "outputs": [
    {
     "name": "stdout",
     "output_type": "stream",
     "text": [
      "Number of total features: 452715\n"
     ]
    }
   ],
   "source": [
    "tfidf_feature_names = tfidf_vectorizer.get_feature_names()\n",
    "print(\"Number of total features: {}\".format(len(tfidf_feature_names)))"
   ]
  },
  {
   "cell_type": "code",
   "execution_count": 28,
   "metadata": {
    "collapsed": true
   },
   "outputs": [],
   "source": [
    "# Initialize NMF\n",
    "nmf = NMF(n_components=10, random_state=1,\n",
    "          alpha=.1, l1_ratio=.5)\n",
    "\n",
    "# Initialize Ida\n",
    "lda = LatentDirichletAllocation(n_topics=10, max_iter=5,\n",
    "                                learning_method='online',\n",
    "                                learning_offset=50.,\n",
    "                                random_state=0)"
   ]
  },
  {
   "cell_type": "code",
   "execution_count": 29,
   "metadata": {
    "collapsed": true
   },
   "outputs": [],
   "source": [
    "num_top_words = 15\n",
    "\n",
    "def retrieve_top_words(model, feature_names, num_top_words):\n",
    "    for idx, topic in enumerate(model.components_):\n",
    "        print(\"Topic #{}:\".format(idx), end='\\n')\n",
    "        print(\" \".join([feature_names[i]\n",
    "                        for i in topic.argsort()[:-num_top_words - 1:-1]]), end='\\n\\n')\n",
    "    print()"
   ]
  },
  {
   "cell_type": "code",
   "execution_count": 30,
   "metadata": {
    "collapsed": true
   },
   "outputs": [],
   "source": [
    "nmf_tf = nmf.fit(tf)"
   ]
  },
  {
   "cell_type": "code",
   "execution_count": 31,
   "metadata": {},
   "outputs": [
    {
     "data": {
      "text/plain": [
       "Counter({0: 534918,\n",
       "         1: 19921,\n",
       "         2: 421204,\n",
       "         3: 189705,\n",
       "         4: 18988,\n",
       "         5: 141207,\n",
       "         6: 440180,\n",
       "         7: 388508,\n",
       "         8: 421991,\n",
       "         9: 405704})"
      ]
     },
     "execution_count": 31,
     "metadata": {},
     "output_type": "execute_result"
    }
   ],
   "source": [
    "nmf_ = nmf_tf.transform(tf)\n",
    "Counter([np.argmax(i) for i in nmf_])"
   ]
  },
  {
   "cell_type": "code",
   "execution_count": 32,
   "metadata": {},
   "outputs": [
    {
     "name": "stdout",
     "output_type": "stream",
     "text": [
      "Topic #0:\n",
      "get day time take first also work taking much back even weight two days really\n",
      "\n",
      "Topic #1:\n",
      "omega oil fish gel per cap mgs 1000 free dha price mg epa followed enteric\n",
      "\n",
      "Topic #2:\n",
      "product products recommend good using used amazon skin results company bottle works received found tried\n",
      "\n",
      "Topic #3:\n",
      "one never going reviews fill bought two another new buy old amazon years best got\n",
      "\n",
      "Topic #4:\n",
      "magnesium per price 100 mgs citrate chelated amazon oxide using mg foods capsules gel ingredients\n",
      "\n",
      "Topic #5:\n",
      "razor shave shaving shaver blades blade hair get face skin used close electric using razors\n",
      "\n",
      "Topic #6:\n",
      "use easy used using clean well water also time hair works need get little cleaning\n",
      "\n",
      "Topic #7:\n",
      "great works price love well really easy buy good recommend work bought quality little nice\n",
      "\n",
      "Topic #8:\n",
      "like good really taste feel smell little protein much also well better water think nice\n",
      "\n",
      "Topic #9:\n",
      "would 34 recommend buy could well thought work anyone back bought even batteries size price\n",
      "\n",
      "\n"
     ]
    }
   ],
   "source": [
    "retrieve_top_words(nmf_tf, tfidf_feature_names, num_top_words)"
   ]
  },
  {
   "cell_type": "code",
   "execution_count": 33,
   "metadata": {
    "collapsed": true
   },
   "outputs": [],
   "source": [
    "nmf_tfidf = nmf.fit(tfidf)"
   ]
  },
  {
   "cell_type": "code",
   "execution_count": 34,
   "metadata": {},
   "outputs": [
    {
     "data": {
      "text/plain": [
       "Counter({0: 830627,\n",
       "         1: 248962,\n",
       "         2: 306270,\n",
       "         3: 257073,\n",
       "         4: 164006,\n",
       "         5: 467381,\n",
       "         6: 305201,\n",
       "         7: 227280,\n",
       "         8: 93100,\n",
       "         9: 82426})"
      ]
     },
     "execution_count": 34,
     "metadata": {},
     "output_type": "execute_result"
    }
   ],
   "source": [
    "nmf_W = nmf_tfidf.transform(tfidf)\n",
    "Counter([np.argmax(i) for i in nmf_W])"
   ]
  },
  {
   "cell_type": "code",
   "execution_count": 35,
   "metadata": {},
   "outputs": [
    {
     "name": "stdout",
     "output_type": "stream",
     "text": [
      "Topic #0:\n",
      "one would time get work bought like used buy batteries back much got long little\n",
      "\n",
      "Topic #1:\n",
      "great price buy value deal quality fast taste protein shipping job thanks smells tastes stuff\n",
      "\n",
      "Topic #2:\n",
      "product recommend would highly anyone excellent using used happy results definitely purchase products order years\n",
      "\n",
      "Topic #3:\n",
      "good price quality taste buy value pretty protein job like really far deal tastes nice\n",
      "\n",
      "Topic #4:\n",
      "razor shave shaving blades shaver blade close skin hair razors face electric smooth gillette using\n",
      "\n",
      "Topic #5:\n",
      "take taking day feel really like energy taste pills weight help started weeks difference using\n",
      "\n",
      "Topic #6:\n",
      "use love easy clean smell also every makes water nice oil skin scent like keep\n",
      "\n",
      "Topic #7:\n",
      "works well really work stuff fine better advertised worth made like worked perfectly seems expected\n",
      "\n",
      "Topic #8:\n",
      "34 size like said says say little smell natural scent know made however small actually\n",
      "\n",
      "Topic #9:\n",
      "scale weight accurate easy read step loss scales bathroom digital pounds display weigh reading lose\n",
      "\n",
      "\n"
     ]
    }
   ],
   "source": [
    "retrieve_top_words(nmf_tfidf, tfidf_feature_names, num_top_words)"
   ]
  }
 ],
 "metadata": {
  "kernelspec": {
   "display_name": "Python [conda env:anaconda]",
   "language": "python",
   "name": "conda-env-anaconda-py"
  },
  "language_info": {
   "codemirror_mode": {
    "name": "ipython",
    "version": 3
   },
   "file_extension": ".py",
   "mimetype": "text/x-python",
   "name": "python",
   "nbconvert_exporter": "python",
   "pygments_lexer": "ipython3",
   "version": "3.6.2"
  }
 },
 "nbformat": 4,
 "nbformat_minor": 2
}
